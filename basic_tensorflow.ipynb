{
 "cells": [
  {
   "cell_type": "raw",
   "metadata": {
    "raw_mimetype": "text/latex",
    "slideshow": {
     "slide_type": "-"
    }
   },
   "source": [
    "Simple Dynamic Sequence to Sequence Model in Tensorflow\n",
    "\n",
    "This tutorial covers the basic seq2seq model. I write this code while learning Tensorlow, the version I used is (tf=1.13). I took helps from existing, code such as google/tensorflow to get some basic structure to write in this deep learning framework.\n",
    "I hope, you enjoy this and this code will be helpful for various work such as chatbot, text summarizations and many more. Also, I would like to invite to contribute by raising a PR and let's discuss the change, so that I can contribute \\& ask raise an issues incase code is not working or something other.\n",
    "\n"
   ]
  },
  {
   "cell_type": "code",
   "execution_count": 6,
   "metadata": {},
   "outputs": [],
   "source": [
    "import tensorflow as tf\n",
    "import numpy as np"
   ]
  },
  {
   "cell_type": "code",
   "execution_count": null,
   "metadata": {
    "collapsed": true
   },
   "outputs": [],
   "source": []
  }
 ],
 "metadata": {
  "kernelspec": {
   "display_name": "Python 3",
   "language": "python",
   "name": "python3"
  },
  "language_info": {
   "codemirror_mode": {
    "name": "ipython",
    "version": 3
   },
   "file_extension": ".py",
   "mimetype": "text/x-python",
   "name": "python",
   "nbconvert_exporter": "python",
   "pygments_lexer": "ipython3",
   "version": "3.5.2"
  }
 },
 "nbformat": 4,
 "nbformat_minor": 2
}
